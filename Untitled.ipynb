{
 "cells": [
  {
   "cell_type": "code",
   "execution_count": 1,
   "id": "beneficial-treasury",
   "metadata": {},
   "outputs": [],
   "source": [
    "Wage =read.csv('Wage.csv');\n",
    "\n",
    "attach(Wage)"
   ]
  },
  {
   "cell_type": "code",
   "execution_count": 2,
   "id": "polyphonic-writing",
   "metadata": {},
   "outputs": [
    {
     "data": {
      "text/html": [
       "<table class=\"dataframe\">\n",
       "<caption>A data.frame: 6 × 3</caption>\n",
       "<thead>\n",
       "\t<tr><th></th><th scope=col>wage</th><th scope=col>ethnicity</th><th scope=col>occupation</th></tr>\n",
       "\t<tr><th></th><th scope=col>&lt;dbl&gt;</th><th scope=col>&lt;chr&gt;</th><th scope=col>&lt;chr&gt;</th></tr>\n",
       "</thead>\n",
       "<tbody>\n",
       "\t<tr><th scope=row>1</th><td> 5.10</td><td>hispanic</td><td>worker</td></tr>\n",
       "\t<tr><th scope=row>2</th><td> 4.95</td><td>cauc    </td><td>worker</td></tr>\n",
       "\t<tr><th scope=row>3</th><td> 6.67</td><td>cauc    </td><td>worker</td></tr>\n",
       "\t<tr><th scope=row>4</th><td> 4.00</td><td>cauc    </td><td>worker</td></tr>\n",
       "\t<tr><th scope=row>5</th><td> 7.50</td><td>cauc    </td><td>worker</td></tr>\n",
       "\t<tr><th scope=row>6</th><td>13.07</td><td>cauc    </td><td>worker</td></tr>\n",
       "</tbody>\n",
       "</table>\n"
      ],
      "text/latex": [
       "A data.frame: 6 × 3\n",
       "\\begin{tabular}{r|lll}\n",
       "  & wage & ethnicity & occupation\\\\\n",
       "  & <dbl> & <chr> & <chr>\\\\\n",
       "\\hline\n",
       "\t1 &  5.10 & hispanic & worker\\\\\n",
       "\t2 &  4.95 & cauc     & worker\\\\\n",
       "\t3 &  6.67 & cauc     & worker\\\\\n",
       "\t4 &  4.00 & cauc     & worker\\\\\n",
       "\t5 &  7.50 & cauc     & worker\\\\\n",
       "\t6 & 13.07 & cauc     & worker\\\\\n",
       "\\end{tabular}\n"
      ],
      "text/markdown": [
       "\n",
       "A data.frame: 6 × 3\n",
       "\n",
       "| <!--/--> | wage &lt;dbl&gt; | ethnicity &lt;chr&gt; | occupation &lt;chr&gt; |\n",
       "|---|---|---|---|\n",
       "| 1 |  5.10 | hispanic | worker |\n",
       "| 2 |  4.95 | cauc     | worker |\n",
       "| 3 |  6.67 | cauc     | worker |\n",
       "| 4 |  4.00 | cauc     | worker |\n",
       "| 5 |  7.50 | cauc     | worker |\n",
       "| 6 | 13.07 | cauc     | worker |\n",
       "\n"
      ],
      "text/plain": [
       "  wage  ethnicity occupation\n",
       "1  5.10 hispanic  worker    \n",
       "2  4.95 cauc      worker    \n",
       "3  6.67 cauc      worker    \n",
       "4  4.00 cauc      worker    \n",
       "5  7.50 cauc      worker    \n",
       "6 13.07 cauc      worker    "
      ]
     },
     "metadata": {},
     "output_type": "display_data"
    }
   ],
   "source": [
    "head(Wage)"
   ]
  },
  {
   "cell_type": "code",
   "execution_count": 6,
   "id": "north-venue",
   "metadata": {},
   "outputs": [],
   "source": [
    "anova.fit <- aov(wage ~ ethnicity + occupation, data = Wage)"
   ]
  },
  {
   "cell_type": "code",
   "execution_count": 8,
   "id": "instant-local",
   "metadata": {},
   "outputs": [
    {
     "data": {
      "text/plain": [
       "             Df Sum Sq Mean Sq F value Pr(>F)    \n",
       "ethnicity     2    173    86.3   3.967 0.0195 *  \n",
       "occupation    5   2459   491.7  22.598 <2e-16 ***\n",
       "Residuals   526  11445    21.8                   \n",
       "---\n",
       "Signif. codes:  0 ‘***’ 0.001 ‘**’ 0.01 ‘*’ 0.05 ‘.’ 0.1 ‘ ’ 1"
      ]
     },
     "metadata": {},
     "output_type": "display_data"
    }
   ],
   "source": [
    "summary(anova.fit)"
   ]
  },
  {
   "cell_type": "code",
   "execution_count": null,
   "id": "literary-asbestos",
   "metadata": {},
   "outputs": [],
   "source": []
  }
 ],
 "metadata": {
  "kernelspec": {
   "display_name": "R",
   "language": "R",
   "name": "ir"
  },
  "language_info": {
   "codemirror_mode": "r",
   "file_extension": ".r",
   "mimetype": "text/x-r-source",
   "name": "R",
   "pygments_lexer": "r",
   "version": "4.0.3"
  }
 },
 "nbformat": 4,
 "nbformat_minor": 5
}
